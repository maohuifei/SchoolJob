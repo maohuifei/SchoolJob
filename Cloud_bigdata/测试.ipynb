{
 "cells": [
  {
   "cell_type": "code",
   "execution_count": null,
   "source": [
    "name = 'abcdefg'\r\n",
    "print(name[2:5:1])\r\n",
    "print(name[2:5])\r\n",
    "print(name[:5])\r\n",
    "print(name[1:])\r\n",
    "print(name[:])\r\n",
    "print(name[::2])\r\n",
    "print(name[::3])\r\n"
   ],
   "outputs": [],
   "metadata": {}
  }
 ],
 "metadata": {
  "orig_nbformat": 4,
  "language_info": {
   "name": "python"
  }
 },
 "nbformat": 4,
 "nbformat_minor": 2
}